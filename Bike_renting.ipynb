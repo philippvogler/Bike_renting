{
 "cells": [
  {
   "cell_type": "markdown",
   "metadata": {},
   "source": [
    "Capstone Project\n",
    "Machine Learning Engineer Nanodegree\n",
    "\n",
    "# Demand prediction for a bike sharing systems\n",
    "\n",
    "Mai 2016  \n",
    "Philipp Vogler  "
   ]
  },
  {
   "cell_type": "markdown",
   "metadata": {},
   "source": [
    "## Definition"
   ]
  },
  {
   "cell_type": "markdown",
   "metadata": {},
   "source": [
    "### Project Overview  \n",
    "\n",
    "- Looked for a problem in the area of transport and logistics that is solvable with machine learning\n",
    "- Utelizing machine learning to forecast the demand for the washington DC bike sharing system 'capital bike share'  \n",
    "- Using different types of regression to find an algorithem to predict the demand for bikes based on calenderic and weather information.  \n",
    "- Weather, calendaric and demand information is provided in a dataset by the University of Porto at UCI ML Repository.  \n",
    "- This project tries to create a forecasting function based on two years of historic data by utelizing the machine learning libraries scikit-learn and tensor-flow.  \n",
    "\n",
    "> http://www.capitalbikeshare.com   \n",
    "> http://archive.ics.uci.edu/ml/datasets/Bike+Sharing+Dataset  \n",
    "> http://freemeteo.de/wetter/  \n",
    "> http://dchr.dc.gov/page/holiday-schedules  \n",
    "> http://scikit-learn.org/stable/  \n",
    "> https://www.tensorflow.org  "
   ]
  },
  {
   "cell_type": "markdown",
   "metadata": {},
   "source": [
    "### Problem Statement  \n",
    "\n",
    "The goal is to forecast the demand of bikes in in dependency of weather conditions like outside temperature and calendaric informations e.g. holidays. These information and the demand structure is provided in a set with two years of dayly historic data.  \n",
    "The demand is given as the total dayly demand and as a split for registered users and casual users. To increase the quality of the prediction registered user demand and casual user demand will be predicted seperatly in step two.  \n",
    "To make predictions machnie learning is used to train regressors. Scikit-Learn recomands a support vector regressor (SVR) for this kind of problem and dataset. In addition a deep neuronal network (DNN) regressor is trained for comparison. To find the hyperparameters for these regressors grid search and ramdomized search are utelized. Due to the small dataset cross validation is applied.  \n",
    "\n",
    "> http://scikit-learn.org/stable/tutorial/machine_learning_map/index.html  \n",
    "> http://scikit-learn.org/stable/modules/generated/sklearn.svm.SVR.html#sklearn.svm.SVR  \n",
    "> https://github.com/tensorflow/skflow/blob/master/g3doc/api_docs/python/estimators.md  \n",
    "> http://scikit-learn.org/stable/modules/generated/sklearn.grid_search.GridSearchCV.html  \n",
    "> http://scikit-learn.org/stable/modules/generated/sklearn.grid_search.RandomizedSearchCV.html"
   ]
  },
  {
   "cell_type": "markdown",
   "metadata": {},
   "source": [
    "### Metrics\n",
    "\n",
    "To mesure the performance of the regressions two standard regression metrics are used: Mean squared eror (MSE) and the coefficient of determination (R^2). Both metrics are calculated for both regressor types. For comparison and parameter tuneing only R^2 is used due to the better readability.\n",
    "\n",
    "> http://scikit-learn.org/stable/modules/generated/sklearn.metrics.mean_squared_error.html#sklearn.metrics.mean_squared_error  \n",
    "> http://scikit-learn.org/stable/modules/generated/sklearn.metrics.r2_score.html#sklearn.metrics.r2_score  "
   ]
  },
  {
   "cell_type": "code",
   "execution_count": 1,
   "metadata": {
    "collapsed": false
   },
   "outputs": [],
   "source": [
    "# Import libraries\n",
    "import numpy as np\n",
    "import pandas as pd\n",
    "from sklearn.svm import SVR\n",
    "from sklearn.cross_validation import train_test_split\n",
    "from sklearn.grid_search import GridSearchCV, RandomizedSearchCV\n",
    "from sklearn.metrics import r2_score, mean_squared_error\n",
    "import matplotlib.pyplot as plt\n",
    "from scipy.stats import randint as sp_randint\n",
    "from scipy.stats import uniform as sp_uniform\n",
    "from tensorflow.contrib import skflow"
   ]
  },
  {
   "cell_type": "markdown",
   "metadata": {},
   "source": [
    "## Analysis"
   ]
  },
  {
   "cell_type": "code",
   "execution_count": 2,
   "metadata": {
    "collapsed": false
   },
   "outputs": [
    {
     "name": "stdout",
     "output_type": "stream",
     "text": [
      "Data read successfully!\n"
     ]
    }
   ],
   "source": [
    "# Getting Dataset\n",
    "\n",
    "bike_data = pd.read_csv(\"day.csv\")\n",
    "\n",
    "print \"Data read successfully!\""
   ]
  },
  {
   "cell_type": "markdown",
   "metadata": {},
   "source": [
    "### Data Exploration"
   ]
  },
  {
   "cell_type": "code",
   "execution_count": 3,
   "metadata": {
    "collapsed": false,
    "scrolled": true
   },
   "outputs": [
    {
     "name": "stdout",
     "output_type": "stream",
     "text": [
      "Feature column(s):\n",
      "Index([u'instant', u'dteday', u'season', u'yr', u'mnth', u'holiday',\n",
      "       u'weekday', u'workingday', u'weathersit', u'temp', u'atemp', u'hum',\n",
      "       u'windspeed'],\n",
      "      dtype='object')\n",
      "\n",
      "Target column:\n",
      "cnt\n"
     ]
    }
   ],
   "source": [
    "# Extracting\n",
    "\n",
    "feature_cols = bike_data.columns[:-3]  # all columns but last are features\n",
    "target_col = bike_data.columns[-1]  # last column is the target\n",
    "print (\"Feature column(s):\\n{}\\n\".format(feature_cols))\n",
    "print (\"Target column:\\n{}\".format(target_col))"
   ]
  },
  {
   "cell_type": "code",
   "execution_count": 4,
   "metadata": {
    "collapsed": false
   },
   "outputs": [
    {
     "name": "stdout",
     "output_type": "stream",
     "text": [
      "\n",
      " Data values:\n",
      "   instant      dteday  season  yr  mnth  holiday  weekday  workingday  \\\n",
      "0        1  2011-01-01       1   0     1        0        6           0   \n",
      "1        2  2011-01-02       1   0     1        0        0           0   \n",
      "2        3  2011-01-03       1   0     1        0        1           1   \n",
      "3        4  2011-01-04       1   0     1        0        2           1   \n",
      "4        5  2011-01-05       1   0     1        0        3           1   \n",
      "\n",
      "   weathersit      temp     atemp       hum  windspeed  casual  registered  \\\n",
      "0           2  0.344167  0.363625  0.805833   0.160446     331         654   \n",
      "1           2  0.363478  0.353739  0.696087   0.248539     131         670   \n",
      "2           1  0.196364  0.189405  0.437273   0.248309     120        1229   \n",
      "3           1  0.200000  0.212122  0.590435   0.160296     108        1454   \n",
      "4           1  0.226957  0.229270  0.436957   0.186900      82        1518   \n",
      "\n",
      "    cnt  \n",
      "0   985  \n",
      "1   801  \n",
      "2  1349  \n",
      "3  1562  \n",
      "4  1600  \n"
     ]
    },
    {
     "data": {
      "text/html": [
       "<div>\n",
       "<table border=\"1\" class=\"dataframe\">\n",
       "  <thead>\n",
       "    <tr style=\"text-align: right;\">\n",
       "      <th></th>\n",
       "      <th>instant</th>\n",
       "      <th>season</th>\n",
       "      <th>yr</th>\n",
       "      <th>mnth</th>\n",
       "      <th>holiday</th>\n",
       "      <th>weekday</th>\n",
       "      <th>workingday</th>\n",
       "      <th>weathersit</th>\n",
       "      <th>temp</th>\n",
       "      <th>atemp</th>\n",
       "      <th>hum</th>\n",
       "      <th>windspeed</th>\n",
       "      <th>casual</th>\n",
       "      <th>registered</th>\n",
       "      <th>cnt</th>\n",
       "    </tr>\n",
       "  </thead>\n",
       "  <tbody>\n",
       "    <tr>\n",
       "      <th>count</th>\n",
       "      <td>731.000000</td>\n",
       "      <td>731.000000</td>\n",
       "      <td>731.000000</td>\n",
       "      <td>731.000000</td>\n",
       "      <td>731.000000</td>\n",
       "      <td>731.000000</td>\n",
       "      <td>731.000000</td>\n",
       "      <td>731.000000</td>\n",
       "      <td>731.000000</td>\n",
       "      <td>731.000000</td>\n",
       "      <td>731.000000</td>\n",
       "      <td>731.000000</td>\n",
       "      <td>731.000000</td>\n",
       "      <td>731.000000</td>\n",
       "      <td>731.000000</td>\n",
       "    </tr>\n",
       "    <tr>\n",
       "      <th>mean</th>\n",
       "      <td>366.000000</td>\n",
       "      <td>2.496580</td>\n",
       "      <td>0.500684</td>\n",
       "      <td>6.519836</td>\n",
       "      <td>0.028728</td>\n",
       "      <td>2.997264</td>\n",
       "      <td>0.683995</td>\n",
       "      <td>1.395349</td>\n",
       "      <td>0.495385</td>\n",
       "      <td>0.474354</td>\n",
       "      <td>0.627894</td>\n",
       "      <td>0.190486</td>\n",
       "      <td>848.176471</td>\n",
       "      <td>3656.172367</td>\n",
       "      <td>4504.348837</td>\n",
       "    </tr>\n",
       "    <tr>\n",
       "      <th>std</th>\n",
       "      <td>211.165812</td>\n",
       "      <td>1.110807</td>\n",
       "      <td>0.500342</td>\n",
       "      <td>3.451913</td>\n",
       "      <td>0.167155</td>\n",
       "      <td>2.004787</td>\n",
       "      <td>0.465233</td>\n",
       "      <td>0.544894</td>\n",
       "      <td>0.183051</td>\n",
       "      <td>0.162961</td>\n",
       "      <td>0.142429</td>\n",
       "      <td>0.077498</td>\n",
       "      <td>686.622488</td>\n",
       "      <td>1560.256377</td>\n",
       "      <td>1937.211452</td>\n",
       "    </tr>\n",
       "    <tr>\n",
       "      <th>min</th>\n",
       "      <td>1.000000</td>\n",
       "      <td>1.000000</td>\n",
       "      <td>0.000000</td>\n",
       "      <td>1.000000</td>\n",
       "      <td>0.000000</td>\n",
       "      <td>0.000000</td>\n",
       "      <td>0.000000</td>\n",
       "      <td>1.000000</td>\n",
       "      <td>0.059130</td>\n",
       "      <td>0.079070</td>\n",
       "      <td>0.000000</td>\n",
       "      <td>0.022392</td>\n",
       "      <td>2.000000</td>\n",
       "      <td>20.000000</td>\n",
       "      <td>22.000000</td>\n",
       "    </tr>\n",
       "    <tr>\n",
       "      <th>25%</th>\n",
       "      <td>183.500000</td>\n",
       "      <td>2.000000</td>\n",
       "      <td>0.000000</td>\n",
       "      <td>4.000000</td>\n",
       "      <td>0.000000</td>\n",
       "      <td>1.000000</td>\n",
       "      <td>0.000000</td>\n",
       "      <td>1.000000</td>\n",
       "      <td>0.337083</td>\n",
       "      <td>0.337842</td>\n",
       "      <td>0.520000</td>\n",
       "      <td>0.134950</td>\n",
       "      <td>315.500000</td>\n",
       "      <td>2497.000000</td>\n",
       "      <td>3152.000000</td>\n",
       "    </tr>\n",
       "    <tr>\n",
       "      <th>50%</th>\n",
       "      <td>366.000000</td>\n",
       "      <td>3.000000</td>\n",
       "      <td>1.000000</td>\n",
       "      <td>7.000000</td>\n",
       "      <td>0.000000</td>\n",
       "      <td>3.000000</td>\n",
       "      <td>1.000000</td>\n",
       "      <td>1.000000</td>\n",
       "      <td>0.498333</td>\n",
       "      <td>0.486733</td>\n",
       "      <td>0.626667</td>\n",
       "      <td>0.180975</td>\n",
       "      <td>713.000000</td>\n",
       "      <td>3662.000000</td>\n",
       "      <td>4548.000000</td>\n",
       "    </tr>\n",
       "    <tr>\n",
       "      <th>75%</th>\n",
       "      <td>548.500000</td>\n",
       "      <td>3.000000</td>\n",
       "      <td>1.000000</td>\n",
       "      <td>10.000000</td>\n",
       "      <td>0.000000</td>\n",
       "      <td>5.000000</td>\n",
       "      <td>1.000000</td>\n",
       "      <td>2.000000</td>\n",
       "      <td>0.655417</td>\n",
       "      <td>0.608602</td>\n",
       "      <td>0.730209</td>\n",
       "      <td>0.233214</td>\n",
       "      <td>1096.000000</td>\n",
       "      <td>4776.500000</td>\n",
       "      <td>5956.000000</td>\n",
       "    </tr>\n",
       "    <tr>\n",
       "      <th>max</th>\n",
       "      <td>731.000000</td>\n",
       "      <td>4.000000</td>\n",
       "      <td>1.000000</td>\n",
       "      <td>12.000000</td>\n",
       "      <td>1.000000</td>\n",
       "      <td>6.000000</td>\n",
       "      <td>1.000000</td>\n",
       "      <td>3.000000</td>\n",
       "      <td>0.861667</td>\n",
       "      <td>0.840896</td>\n",
       "      <td>0.972500</td>\n",
       "      <td>0.507463</td>\n",
       "      <td>3410.000000</td>\n",
       "      <td>6946.000000</td>\n",
       "      <td>8714.000000</td>\n",
       "    </tr>\n",
       "  </tbody>\n",
       "</table>\n",
       "</div>"
      ],
      "text/plain": [
       "          instant      season          yr        mnth     holiday     weekday  \\\n",
       "count  731.000000  731.000000  731.000000  731.000000  731.000000  731.000000   \n",
       "mean   366.000000    2.496580    0.500684    6.519836    0.028728    2.997264   \n",
       "std    211.165812    1.110807    0.500342    3.451913    0.167155    2.004787   \n",
       "min      1.000000    1.000000    0.000000    1.000000    0.000000    0.000000   \n",
       "25%    183.500000    2.000000    0.000000    4.000000    0.000000    1.000000   \n",
       "50%    366.000000    3.000000    1.000000    7.000000    0.000000    3.000000   \n",
       "75%    548.500000    3.000000    1.000000   10.000000    0.000000    5.000000   \n",
       "max    731.000000    4.000000    1.000000   12.000000    1.000000    6.000000   \n",
       "\n",
       "       workingday  weathersit        temp       atemp         hum   windspeed  \\\n",
       "count  731.000000  731.000000  731.000000  731.000000  731.000000  731.000000   \n",
       "mean     0.683995    1.395349    0.495385    0.474354    0.627894    0.190486   \n",
       "std      0.465233    0.544894    0.183051    0.162961    0.142429    0.077498   \n",
       "min      0.000000    1.000000    0.059130    0.079070    0.000000    0.022392   \n",
       "25%      0.000000    1.000000    0.337083    0.337842    0.520000    0.134950   \n",
       "50%      1.000000    1.000000    0.498333    0.486733    0.626667    0.180975   \n",
       "75%      1.000000    2.000000    0.655417    0.608602    0.730209    0.233214   \n",
       "max      1.000000    3.000000    0.861667    0.840896    0.972500    0.507463   \n",
       "\n",
       "            casual   registered          cnt  \n",
       "count   731.000000   731.000000   731.000000  \n",
       "mean    848.176471  3656.172367  4504.348837  \n",
       "std     686.622488  1560.256377  1937.211452  \n",
       "min       2.000000    20.000000    22.000000  \n",
       "25%     315.500000  2497.000000  3152.000000  \n",
       "50%     713.000000  3662.000000  4548.000000  \n",
       "75%    1096.000000  4776.500000  5956.000000  \n",
       "max    3410.000000  6946.000000  8714.000000  "
      ]
     },
     "execution_count": 4,
     "metadata": {},
     "output_type": "execute_result"
    }
   ],
   "source": [
    "# Exploration\n",
    "\n",
    "print \"\\n Data values:\"\n",
    "print bike_data.head()  # print the first 5 rows\n",
    "\n",
    "bike_data.describe() # shows stats "
   ]
  },
  {
   "cell_type": "markdown",
   "metadata": {},
   "source": [
    "#### Characteristics\n",
    "\n",
    "Most of the data is already normalized or binary.  \n",
    "The dataset is very concise and missing values are not a problem. Categorical data like weekday or workingday are already processed."
   ]
  },
  {
   "cell_type": "markdown",
   "metadata": {},
   "source": [
    "### Data Preprocessing (Methodology)\n",
    "\n",
    "Dates get droped because the regressor can not read this datatype and the order information is already stored in the index. The instant variable replicates this information also. "
   ]
  },
  {
   "cell_type": "code",
   "execution_count": 5,
   "metadata": {
    "collapsed": false
   },
   "outputs": [],
   "source": [
    "# Pre-processing\n",
    "\n",
    "X = bike_data[feature_cols.drop(['dteday'],['instant'])] # feature values \n",
    "y = bike_data[target_col]  # corresponding targets"
   ]
  },
  {
   "cell_type": "markdown",
   "metadata": {},
   "source": [
    "### Exploratory Visualization\n",
    "\n",
    "The visualiation shows a classic seasonal pattern with a up trend year over year. There are so outliers. These are left in the dataset because they are not due to mesurement errors, but to extrem weather conditions. Extrem weather conditions are part of the problem so the data is not excluded."
   ]
  },
  {
   "cell_type": "code",
   "execution_count": 29,
   "metadata": {
    "collapsed": false
   },
   "outputs": [],
   "source": [
    "# Visulazation\n",
    "\n",
    "plt.style.use('ggplot')\n",
    "plt.figure(1)\n",
    "      \n",
    "plt.plot(bike_data.cnt,'gx')\n",
    "#plt.plot(bike_data.casual,'yo')\n",
    "#plt.plot(bike_data.registered,'bo')\n",
    "\n",
    "plt.title('Number of bikes rented per day')\n",
    "plt.xlabel('Days')\n",
    "plt.ylabel('Number of bikes')\n",
    "\n",
    "plt.show()\n",
    "\n",
    "# source: http://matplotlib.org/examples/showcase/bachelors_degrees_by_gender.html"
   ]
  },
  {
   "cell_type": "markdown",
   "metadata": {},
   "source": [
    "### Algorithms and Techniques"
   ]
  },
  {
   "cell_type": "code",
   "execution_count": 32,
   "metadata": {
    "collapsed": false
   },
   "outputs": [
    {
     "name": "stdout",
     "output_type": "stream",
     "text": [
      "(183,)\n"
     ]
    }
   ],
   "source": [
    "# Split\n",
    "\n",
    "X_train, X_test, y_train, y_test = train_test_split(X, y)# test size is set to 0.25"
   ]
  },
  {
   "cell_type": "markdown",
   "metadata": {},
   "source": [
    "Two types of regressors are trained. A SVR and a DNN-Regressor. Both are first used \"of the shelf\" with default parameters to create a benchmark.\n",
    "\n",
    "> http://scikit-learn.org/stable/modules/generated/sklearn.svm.SVR.html#sklearn.svm.SVR  \n",
    "> https://github.com/tensorflow/skflow/blob/master/g3doc/api_docs/python/estimators.md  "
   ]
  },
  {
   "cell_type": "markdown",
   "metadata": {},
   "source": [
    "### Benchmark"
   ]
  },
  {
   "cell_type": "markdown",
   "metadata": {},
   "source": [
    "Both \"benchmarks\" for the coefficient of determination are very low. Parameter tuneing is mandatory."
   ]
  },
  {
   "cell_type": "code",
   "execution_count": 8,
   "metadata": {
    "collapsed": false
   },
   "outputs": [
    {
     "data": {
      "text/plain": [
       "SVR(C=1.0, cache_size=200, coef0=0.0, degree=3, epsilon=0.1, gamma='auto',\n",
       "  kernel='rbf', max_iter=-1, shrinking=True, tol=0.001, verbose=False)"
      ]
     },
     "execution_count": 8,
     "metadata": {},
     "output_type": "execute_result"
    }
   ],
   "source": [
    "# Training SVR\n",
    "\n",
    "svr = SVR()\n",
    "svr.fit(X_train, y_train)"
   ]
  },
  {
   "cell_type": "code",
   "execution_count": 9,
   "metadata": {
    "collapsed": false
   },
   "outputs": [
    {
     "name": "stdout",
     "output_type": "stream",
     "text": [
      "Score SVR: -0.015513\n"
     ]
    }
   ],
   "source": [
    "# Validation SVR\n",
    "\n",
    "svr_pred = svr.predict(X_test)\n",
    "\n",
    "# score_svr = mean_squared_error(y_test, svr_pred)\n",
    "score_svr = r2_score(y_test, svr_pred)\n",
    "\n",
    "print(\"Score SVR: %f\" % score_svr)"
   ]
  },
  {
   "cell_type": "code",
   "execution_count": 10,
   "metadata": {
    "collapsed": false
   },
   "outputs": [
    {
     "name": "stdout",
     "output_type": "stream",
     "text": [
      "Step #99, avg. train loss: 3675103.00000\n",
      "Step #199, avg. train loss: 2225636.25000\n",
      "Step #299, avg. train loss: 1991676.62500\n",
      "Step #399, avg. train loss: 1947838.25000\n",
      "Step #499, avg. train loss: 2531683.75000\n",
      "Step #600, epoch #1, avg. train loss: 1722748.62500\n",
      "Step #700, epoch #1, avg. train loss: 2070615.87500\n",
      "Step #800, epoch #1, avg. train loss: 1846719.62500\n",
      "Step #900, epoch #1, avg. train loss: 3088150.75000\n",
      "Step #1000, epoch #1, avg. train loss: 1925523.25000\n",
      "Step #1100, epoch #2, avg. train loss: 2264550.25000\n",
      "Step #1200, epoch #2, avg. train loss: 2238647.00000\n",
      "Step #1300, epoch #2, avg. train loss: 1491298.37500\n",
      "Step #1400, epoch #2, avg. train loss: 1896432.50000\n",
      "Step #1500, epoch #2, avg. train loss: 2803771.75000\n",
      "Step #1600, epoch #2, avg. train loss: 2042258.37500\n",
      "Step #1700, epoch #3, avg. train loss: 2067669.12500\n",
      "Step #1800, epoch #3, avg. train loss: 2036727.37500\n",
      "Step #1900, epoch #3, avg. train loss: 2111541.75000\n",
      "Step #2000, epoch #3, avg. train loss: 2267489.50000\n",
      "Step #2100, epoch #3, avg. train loss: 2044957.75000\n",
      "Step #2200, epoch #4, avg. train loss: 2511855.00000\n",
      "Step #2300, epoch #4, avg. train loss: 2074448.00000\n",
      "Step #2400, epoch #4, avg. train loss: 2624203.75000\n",
      "Step #2500, epoch #4, avg. train loss: 1601348.50000\n",
      "Step #2600, epoch #4, avg. train loss: 1766621.75000\n",
      "Step #2700, epoch #4, avg. train loss: 2129381.00000\n",
      "Step #2800, epoch #5, avg. train loss: 2180876.00000\n",
      "Step #2900, epoch #5, avg. train loss: 1913812.12500\n",
      "Step #3000, epoch #5, avg. train loss: 1157363.25000\n",
      "Step #3100, epoch #5, avg. train loss: 2937433.00000\n",
      "Step #3200, epoch #5, avg. train loss: 2472005.00000\n",
      "Step #3300, epoch #6, avg. train loss: 1794903.25000\n",
      "Step #3400, epoch #6, avg. train loss: 2094592.50000\n",
      "Step #3500, epoch #6, avg. train loss: 2129470.00000\n",
      "Step #3600, epoch #6, avg. train loss: 1874675.37500\n",
      "Step #3700, epoch #6, avg. train loss: 1498617.12500\n",
      "Step #3800, epoch #6, avg. train loss: 1910614.12500\n",
      "Step #3900, epoch #7, avg. train loss: 2703814.75000\n",
      "Step #4000, epoch #7, avg. train loss: 2473926.75000\n",
      "Step #4100, epoch #7, avg. train loss: 1780040.62500\n",
      "Step #4200, epoch #7, avg. train loss: 1471666.25000\n",
      "Step #4300, epoch #7, avg. train loss: 2117330.00000\n",
      "Step #4400, epoch #8, avg. train loss: 1519225.50000\n",
      "Step #4500, epoch #8, avg. train loss: 2324071.50000\n",
      "Step #4600, epoch #8, avg. train loss: 1547905.25000\n",
      "Step #4700, epoch #8, avg. train loss: 1598534.12500\n",
      "Step #4800, epoch #8, avg. train loss: 2802049.00000\n",
      "Step #4900, epoch #8, avg. train loss: 1296141.00000\n",
      "Step #5000, epoch #9, avg. train loss: 2157198.00000\n",
      "Score: 0.127445\n"
     ]
    }
   ],
   "source": [
    "# DNN-Regressor\n",
    "\n",
    "#  Copyright 2015-present The Scikit Flow Authors. All Rights Reserved.\n",
    "#\n",
    "#  Licensed under the Apache License, Version 2.0 (the \"License\");\n",
    "#  you may not use this file except in compliance with the License.\n",
    "#  You may obtain a copy of the License at\n",
    "#\n",
    "#   http://www.apache.org/licenses/LICENSE-2.0\n",
    "#\n",
    "#  Unless required by applicable law or agreed to in writing, software\n",
    "#  distributed under the License is distributed on an \"AS IS\" BASIS,\n",
    "#  WITHOUT WARRANTIES OR CONDITIONS OF ANY KIND, either express or implied.\n",
    "#  See the License for the specific language governing permissions and\n",
    "#  limitations under the License.\n",
    "\n",
    "#from __future__ import absolute_import\n",
    "#from __future__ import division\n",
    "#from __future__ import print_function\n",
    "#from sklearn import preprocessing\n",
    "\n",
    "# Build 2 layer fully connected DNN with 10, 10 units respectively.\n",
    "regressor = skflow.TensorFlowDNNRegressor(hidden_units=[10,10], steps=5000, learning_rate=0.1, batch_size=1)\n",
    "\n",
    "# Fit\n",
    "regressor.fit(X_train, y_train)\n",
    "\n",
    "# Predict and validate\n",
    "#score_regressor = metrics.mean_squared_error( y_test, regressor.predict(X_test))\n",
    "score_regressor = r2_score(y_test, regressor.predict(X_test))\n",
    "\n",
    "print('Score: {0:f}'.format(score_regressor))\n",
    "\n",
    "# source https://github.com/tensorflow/tensorflow/blob/master/tensorflow/examples/skflow/boston.py"
   ]
  },
  {
   "cell_type": "markdown",
   "metadata": {},
   "source": [
    "## Methodology"
   ]
  },
  {
   "cell_type": "markdown",
   "metadata": {},
   "source": [
    "### Implementation\n",
    "\n",
    "The regressors are trained using randomised search and cross validation to identify the area of the best parameters. Than a grid search is used to tune parameter values of the regressor functions.\n",
    "\n",
    "> http://scikit-learn.org/stable/modules/generated/sklearn.grid_search.GridSearchCV.html  \n",
    "> http://scikit-learn.org/stable/modules/generated/sklearn.grid_search.RandomizedSearchCV.html"
   ]
  },
  {
   "cell_type": "code",
   "execution_count": 11,
   "metadata": {
    "collapsed": false,
    "scrolled": true
   },
   "outputs": [
    {
     "name": "stdout",
     "output_type": "stream",
     "text": [
      "GridSearchCV(cv=None, error_score='raise',\n",
      "       estimator=SVR(C=1, cache_size=200, coef0=0.0, degree=3, epsilon=0.1, gamma='auto',\n",
      "  kernel='rbf', max_iter=-1, shrinking=True, tol=0.001, verbose=False),\n",
      "       fit_params={}, iid=True, n_jobs=1,\n",
      "       param_grid=[{'kernel': ['linear', 'rbf'], 'C': [300, 1000, 3000]}],\n",
      "       pre_dispatch='2*n_jobs', refit=True, scoring='r2', verbose=0)\n",
      "\n",
      "Best parameter from grid search: {'kernel': 'linear', 'C': 3000}\n",
      "\n"
     ]
    }
   ],
   "source": [
    "# Tuning SVR with GridSearch\n",
    "\n",
    "tuned_parameters = [{'C': [300, 1000, 3000], \n",
    "                     'kernel': ['linear', 'rbf']}\n",
    "                   ]\n",
    "\n",
    "#svr_tuned = GridSearchCV(SVR (C=1), param_grid = tuned_parameters, scoring = 'mean_squared_error') #default 3-fold cross-validation, score method of the estimator\n",
    "svr_tuned_GS = GridSearchCV(SVR (C=1), param_grid = tuned_parameters, scoring = 'r2') #default 3-fold cross-validation, score method of the estimator\n",
    "\n",
    "svr_tuned_GS.fit(X_train, y_train)\n",
    "\n",
    "print (svr_tuned_GS)\n",
    "print ('\\n' \"Best parameter from grid search: \" + str(svr_tuned_GS.best_params_) +'\\n')"
   ]
  },
  {
   "cell_type": "code",
   "execution_count": 12,
   "metadata": {
    "collapsed": false
   },
   "outputs": [
    {
     "name": "stdout",
     "output_type": "stream",
     "text": [
      "SVR Results\n",
      "\n",
      "Score SVR: -0.015513\n",
      "Score SVR tuned GS: 0.802439\n"
     ]
    }
   ],
   "source": [
    "# Validation - SVR tuned \n",
    "\n",
    "svr_tuned_pred_GS = svr_tuned_GS.predict(X_test)\n",
    "\n",
    "#score_svr_tuned = mean_squared_error(y_test, svr_tuned_pred)\n",
    "score_svr_tuned_GS = r2_score(y_test, svr_tuned_pred_GS)\n",
    "\n",
    "print('SVR Results\\n')\n",
    "print(\"Score SVR: %f\" % score_svr)\n",
    "print(\"Score SVR tuned GS: %f\" % score_svr_tuned_GS)"
   ]
  },
  {
   "cell_type": "code",
   "execution_count": 13,
   "metadata": {
    "collapsed": false
   },
   "outputs": [
    {
     "name": "stdout",
     "output_type": "stream",
     "text": [
      "best CV score from grid search: 0.785438\n",
      "corresponding parameters: {'kernel': 'linear', 'C': 3005.1731014446905}\n"
     ]
    }
   ],
   "source": [
    "# SVR tuned with RandomizesSearch\n",
    "# may take a while!\n",
    "\n",
    "# Parameters\n",
    "param_dist = {  'C': sp_uniform (300, 3000), \n",
    "                'kernel': ['linear']\n",
    "             }\n",
    "\n",
    "n_iter_search = 1\n",
    "\n",
    "# MSE optimized\n",
    "#SVR_tuned_RS = RandomizedSearchCV(SVR (C=1), param_distributions = param_dist, scoring = 'mean_squared_error', n_iter=n_iter_search)\n",
    "\n",
    "# R^2 optimized\n",
    "SVR_tuned_RS = RandomizedSearchCV(SVR (C=1), param_distributions = param_dist, scoring = 'r2', n_iter=n_iter_search)\n",
    "\n",
    "# Fit\n",
    "SVR_tuned_RS.fit(X_train, y_train)\n",
    "\n",
    "# Best score and corresponding parameters.\n",
    "print('best CV score from grid search: {0:f}'.format(SVR_tuned_RS.best_score_))\n",
    "print('corresponding parameters: {}'.format(SVR_tuned_RS.best_params_))\n",
    "\n",
    "# Predict and score\n",
    "predict = SVR_tuned_RS.predict(X_test)\n",
    "\n",
    "#score_regressor_tuned_RS = mean_squared_error(y_test, predict)\n",
    "score_SVR_tuned_RS = r2_score(y_test, predict)"
   ]
  },
  {
   "cell_type": "code",
   "execution_count": 14,
   "metadata": {
    "collapsed": false
   },
   "outputs": [
    {
     "name": "stdout",
     "output_type": "stream",
     "text": [
      "SVR Results\n",
      "\n",
      "Score SVR: -0.015513\n",
      "Score SVR tuned GS: 0.802439\n",
      "Score SVR tuned RS: 0.802498\n"
     ]
    }
   ],
   "source": [
    "print('SVR Results\\n')\n",
    "print(\"Score SVR: %f\" % score_svr)\n",
    "print(\"Score SVR tuned GS: %f\" % score_svr_tuned_GS)\n",
    "print('Score SVR tuned RS: {0:f}'.format(score_SVR_tuned_RS))"
   ]
  },
  {
   "cell_type": "markdown",
   "metadata": {},
   "source": [
    "The tuneing works for the SVR."
   ]
  },
  {
   "cell_type": "code",
   "execution_count": 15,
   "metadata": {
    "collapsed": false,
    "scrolled": true
   },
   "outputs": [
    {
     "name": "stdout",
     "output_type": "stream",
     "text": [
      "Step #100, epoch #50, avg. train loss: 2192975.75000\n",
      "Step #100, epoch #50, avg. train loss: 2179852.75000\n",
      "Step #100, epoch #50, avg. train loss: 2038728.00000\n",
      "Step #100, epoch #50, avg. train loss: 2839177.25000\n",
      "Step #100, epoch #50, avg. train loss: 2753393.00000\n",
      "Step #100, epoch #50, avg. train loss: 2676771.00000\n",
      "Step #100, epoch #50, avg. train loss: 2815777.25000\n",
      "Step #100, epoch #50, avg. train loss: 2902308.25000\n",
      "Step #100, epoch #50, avg. train loss: 2887063.75000\n",
      "Step #100, epoch #50, avg. train loss: 2207981.75000\n",
      "Step #100, epoch #50, avg. train loss: 2172650.00000\n",
      "Step #100, epoch #50, avg. train loss: 2024596.50000\n",
      "Step #100, epoch #50, avg. train loss: 2746564.50000\n",
      "Step #100, epoch #50, avg. train loss: 2693894.00000\n",
      "Step #100, epoch #50, avg. train loss: 2389778.50000\n",
      "Step #100, epoch #50, avg. train loss: 3136289.50000\n",
      "Step #100, epoch #50, avg. train loss: 3072315.50000\n",
      "Step #100, epoch #50, avg. train loss: 2954667.50000\n",
      "Step #100, epoch #50, avg. train loss: 2261766.00000\n",
      "Step #100, epoch #50, avg. train loss: 2177063.00000\n",
      "Step #100, epoch #50, avg. train loss: 2042266.50000\n",
      "Step #100, epoch #50, avg. train loss: 2388641.75000\n",
      "Step #100, epoch #50, avg. train loss: 2333977.50000\n",
      "Step #100, epoch #50, avg. train loss: 2177559.75000\n",
      "Step #100, epoch #50, avg. train loss: 3898251.00000\n",
      "Step #100, epoch #50, avg. train loss: 4121273.50000\n",
      "Step #100, epoch #50, avg. train loss: 3513387.25000\n",
      "Step #100, epoch #50, avg. train loss: 2240548.75000\n",
      "Step #100, epoch #50, avg. train loss: 2193042.00000\n",
      "Step #100, epoch #50, avg. train loss: 2044591.00000\n",
      "Step #100, epoch #50, avg. train loss: 3088338.50000\n",
      "Step #100, epoch #50, avg. train loss: 3067118.75000\n",
      "Step #100, epoch #50, avg. train loss: 2949650.00000\n",
      "Step #100, epoch #50, avg. train loss: 3013192.25000\n",
      "Step #100, epoch #50, avg. train loss: 3057633.25000\n",
      "Step #100, epoch #50, avg. train loss: 3012945.00000\n",
      "Step #100, epoch #50, avg. train loss: 2205216.00000\n",
      "Step #100, epoch #50, avg. train loss: 2182436.25000\n",
      "Step #100, epoch #50, avg. train loss: 2046102.50000\n",
      "Step #100, epoch #50, avg. train loss: 3259568.75000\n",
      "Step #100, epoch #50, avg. train loss: 3133735.75000\n",
      "Step #100, epoch #50, avg. train loss: 3062949.50000\n",
      "Step #100, epoch #50, avg. train loss: 2799307.50000\n",
      "Step #100, epoch #50, avg. train loss: 3503694.00000\n",
      "Step #100, epoch #50, avg. train loss: 3372368.25000\n",
      "Step #100, epoch #50, avg. train loss: 2228482.00000\n",
      "Step #100, epoch #50, avg. train loss: 2200266.00000\n",
      "Step #100, epoch #50, avg. train loss: 2032402.12500\n",
      "Step #100, epoch #50, avg. train loss: 2697881.50000\n",
      "Step #100, epoch #50, avg. train loss: 2695392.25000\n",
      "Step #100, epoch #50, avg. train loss: 2625964.25000\n",
      "Step #100, epoch #50, avg. train loss: 2899657.25000\n",
      "Step #100, epoch #50, avg. train loss: 2844578.00000\n",
      "Step #100, epoch #50, avg. train loss: 2837328.00000\n",
      "Step #100, epoch #50, avg. train loss: 2233397.00000\n",
      "Step #100, epoch #50, avg. train loss: 2174881.00000\n",
      "Step #100, epoch #50, avg. train loss: 2040574.87500\n",
      "Step #100, epoch #50, avg. train loss: 2761820.50000\n",
      "Step #100, epoch #50, avg. train loss: 2716371.75000\n",
      "Step #100, epoch #50, avg. train loss: 2465880.25000\n",
      "Step #100, epoch #50, avg. train loss: 3329538.00000\n",
      "Step #100, epoch #50, avg. train loss: 3260430.00000\n",
      "Step #100, epoch #50, avg. train loss: 2894523.75000\n",
      "Step #100, epoch #50, avg. train loss: 2236866.50000\n",
      "Step #100, epoch #50, avg. train loss: 2221370.50000\n",
      "Step #100, epoch #50, avg. train loss: 2044768.75000\n",
      "Step #100, epoch #50, avg. train loss: 2352880.25000\n",
      "Step #100, epoch #50, avg. train loss: 2318337.00000\n",
      "Step #100, epoch #50, avg. train loss: 2171415.75000\n",
      "Step #100, epoch #50, avg. train loss: 3804134.50000\n",
      "Step #100, epoch #50, avg. train loss: 3824297.25000\n",
      "Step #100, epoch #50, avg. train loss: 3537087.00000\n",
      "Step #100, epoch #50, avg. train loss: 2238810.25000\n",
      "Step #100, epoch #50, avg. train loss: 2208196.25000\n",
      "Step #100, epoch #50, avg. train loss: 2089785.00000\n",
      "Step #100, epoch #50, avg. train loss: 3134065.25000\n",
      "Step #100, epoch #50, avg. train loss: 2986546.00000\n",
      "Step #100, epoch #50, avg. train loss: 2879295.25000\n",
      "Step #100, epoch #50, avg. train loss: 3234941.75000\n",
      "Step #100, epoch #50, avg. train loss: 3002228.75000\n",
      "Step #100, epoch #50, avg. train loss: 3029180.75000\n",
      "Step #100, epoch #50, avg. train loss: 2237434.50000\n",
      "Step #100, epoch #50, avg. train loss: 2228394.50000\n",
      "Step #100, epoch #50, avg. train loss: 2051077.12500\n",
      "Step #100, epoch #50, avg. train loss: 3298375.25000\n",
      "Step #100, epoch #50, avg. train loss: 3227284.50000\n",
      "Step #100, epoch #50, avg. train loss: 2868740.75000\n",
      "Step #100, epoch #50, avg. train loss: 2731731.25000\n",
      "Step #100, epoch #50, avg. train loss: 2946723.50000\n",
      "Step #100, epoch #50, avg. train loss: 3376698.00000\n",
      "Step #100, epoch #50, avg. train loss: 2212269.00000\n",
      "Step #100, epoch #50, avg. train loss: 2185745.75000\n",
      "Step #100, epoch #50, avg. train loss: 2019756.50000\n",
      "Step #100, epoch #50, avg. train loss: 2921703.75000\n",
      "Step #100, epoch #50, avg. train loss: 2914431.25000\n",
      "Step #100, epoch #50, avg. train loss: 2188975.25000\n",
      "Step #100, epoch #50, avg. train loss: 2902223.00000\n",
      "Step #100, epoch #50, avg. train loss: 2942983.25000\n",
      "Step #100, epoch #50, avg. train loss: 2692604.50000\n",
      "Step #100, epoch #50, avg. train loss: 2223961.50000\n",
      "Step #100, epoch #50, avg. train loss: 2172388.75000\n",
      "Step #100, epoch #50, avg. train loss: 2031223.25000\n",
      "Step #100, epoch #50, avg. train loss: 2809039.00000\n",
      "Step #100, epoch #50, avg. train loss: 2786434.50000\n",
      "Step #100, epoch #50, avg. train loss: 2636501.00000\n",
      "Step #100, epoch #50, avg. train loss: 4038219.00000\n",
      "Step #100, epoch #50, avg. train loss: 3224803.25000\n",
      "Step #100, epoch #50, avg. train loss: 2888154.00000\n",
      "Step #100, epoch #50, avg. train loss: 2251282.00000\n",
      "Step #100, epoch #50, avg. train loss: 2188480.25000\n",
      "Step #100, epoch #50, avg. train loss: 2017721.25000\n",
      "Step #100, epoch #50, avg. train loss: 2381309.50000\n",
      "Step #100, epoch #50, avg. train loss: 2349109.50000\n",
      "Step #100, epoch #50, avg. train loss: 2190394.25000\n",
      "Step #100, epoch #50, avg. train loss: 3869550.00000\n",
      "Step #100, epoch #50, avg. train loss: 3877105.50000\n",
      "Step #100, epoch #50, avg. train loss: 3737227.25000\n",
      "Step #100, epoch #50, avg. train loss: 2263763.75000\n",
      "Step #100, epoch #50, avg. train loss: 2203058.50000\n",
      "Step #100, epoch #50, avg. train loss: 2101408.25000\n",
      "Step #100, epoch #50, avg. train loss: 2824560.25000\n",
      "Step #100, epoch #50, avg. train loss: 3234991.25000\n",
      "Step #100, epoch #50, avg. train loss: 2916491.50000\n",
      "Step #100, epoch #50, avg. train loss: 3351480.75000\n",
      "Step #100, epoch #50, avg. train loss: 3543427.50000\n",
      "Step #100, epoch #50, avg. train loss: 3433835.00000\n",
      "Step #100, epoch #50, avg. train loss: 2319591.75000\n",
      "Step #100, epoch #50, avg. train loss: 2208232.25000\n",
      "Step #100, epoch #50, avg. train loss: 2076317.87500\n",
      "Step #100, epoch #50, avg. train loss: 3309782.75000\n",
      "Step #100, epoch #50, avg. train loss: 3352639.75000\n",
      "Step #100, epoch #50, avg. train loss: 3049326.75000\n",
      "Step #100, epoch #50, avg. train loss: 2855671.25000\n",
      "Step #100, epoch #50, avg. train loss: 2750760.00000\n",
      "Step #100, epoch #50, avg. train loss: 2674465.00000\n",
      "Step #100, epoch #100, avg. train loss: 2193617.50000\n",
      "Step #100, epoch #100, avg. train loss: 2145690.50000\n",
      "Step #100, epoch #100, avg. train loss: 1985355.87500\n",
      "Step #100, epoch #100, avg. train loss: 2753444.25000\n",
      "Step #100, epoch #100, avg. train loss: 2712106.25000\n",
      "Step #100, epoch #100, avg. train loss: 2587633.00000\n",
      "Step #100, epoch #100, avg. train loss: 3265208.25000\n",
      "Step #100, epoch #100, avg. train loss: 3042426.00000\n",
      "Step #100, epoch #100, avg. train loss: 2662712.75000\n",
      "Step #100, epoch #100, avg. train loss: 2209687.25000\n",
      "Step #100, epoch #100, avg. train loss: 2156854.25000\n",
      "Step #100, epoch #100, avg. train loss: 2006677.25000\n",
      "Step #100, epoch #100, avg. train loss: 2645388.50000\n",
      "Step #100, epoch #100, avg. train loss: 2648597.50000\n",
      "Step #100, epoch #100, avg. train loss: 2545574.00000\n",
      "Step #100, epoch #100, avg. train loss: 3074980.25000\n",
      "Step #100, epoch #100, avg. train loss: 3030695.00000\n",
      "Step #100, epoch #100, avg. train loss: 2919928.25000\n",
      "Step #100, epoch #100, avg. train loss: 2245858.00000\n",
      "Step #100, epoch #100, avg. train loss: 2198529.00000\n",
      "Step #100, epoch #100, avg. train loss: 2036097.12500\n",
      "Step #100, epoch #100, avg. train loss: 2393130.00000\n",
      "Step #100, epoch #100, avg. train loss: 2357410.00000\n",
      "Step #100, epoch #100, avg. train loss: 2194960.00000\n",
      "Step #100, epoch #100, avg. train loss: 4090886.50000\n",
      "Step #100, epoch #100, avg. train loss: 4056882.50000\n",
      "Step #100, epoch #100, avg. train loss: 3963133.75000\n",
      "Step #100, epoch #100, avg. train loss: 2228553.00000\n",
      "Step #100, epoch #100, avg. train loss: 2182226.00000\n",
      "Step #100, epoch #100, avg. train loss: 2022762.75000\n",
      "Step #100, epoch #100, avg. train loss: 2990559.00000\n",
      "Step #100, epoch #100, avg. train loss: 2969747.25000\n",
      "Step #100, epoch #100, avg. train loss: 2853561.00000\n",
      "Step #100, epoch #100, avg. train loss: 3079203.25000\n",
      "Step #100, epoch #100, avg. train loss: 2978529.50000\n",
      "Step #100, epoch #100, avg. train loss: 3083882.25000\n",
      "Step #100, epoch #100, avg. train loss: 2210492.00000\n",
      "Step #100, epoch #100, avg. train loss: 2155368.25000\n",
      "Step #100, epoch #100, avg. train loss: 1992007.25000\n",
      "Step #100, epoch #100, avg. train loss: 3183331.75000\n",
      "Step #100, epoch #100, avg. train loss: 3112128.00000\n",
      "Step #100, epoch #100, avg. train loss: 3004490.50000\n",
      "Step #100, epoch #100, avg. train loss: 3011811.25000\n",
      "Step #100, epoch #100, avg. train loss: 2780474.25000\n",
      "Step #100, epoch #100, avg. train loss: 2639286.00000\n",
      "Step #100, epoch #100, avg. train loss: 2193617.50000\n",
      "Step #100, epoch #100, avg. train loss: 2145690.50000\n",
      "Step #100, epoch #100, avg. train loss: 1985355.87500\n",
      "Step #100, epoch #100, avg. train loss: 2753444.25000\n",
      "Step #100, epoch #100, avg. train loss: 2712106.25000\n",
      "Step #100, epoch #100, avg. train loss: 2587633.00000\n",
      "Step #100, epoch #100, avg. train loss: 3265208.25000\n",
      "Step #100, epoch #100, avg. train loss: 3042426.00000\n",
      "Step #100, epoch #100, avg. train loss: 2662712.75000\n",
      "Step #100, epoch #100, avg. train loss: 2209687.25000\n",
      "Step #100, epoch #100, avg. train loss: 2156854.25000\n",
      "Step #100, epoch #100, avg. train loss: 2006677.25000\n",
      "Step #100, epoch #100, avg. train loss: 2645388.50000\n",
      "Step #100, epoch #100, avg. train loss: 2648597.50000\n",
      "Step #100, epoch #100, avg. train loss: 2545574.00000\n",
      "Step #100, epoch #100, avg. train loss: 3074980.25000\n",
      "Step #100, epoch #100, avg. train loss: 3030695.00000\n",
      "Step #100, epoch #100, avg. train loss: 2919928.25000\n",
      "Step #100, epoch #100, avg. train loss: 2245858.00000\n",
      "Step #100, epoch #100, avg. train loss: 2198529.00000\n",
      "Step #100, epoch #100, avg. train loss: 2036097.12500\n",
      "Step #100, epoch #100, avg. train loss: 2393130.00000\n",
      "Step #100, epoch #100, avg. train loss: 2357410.00000\n",
      "Step #100, epoch #100, avg. train loss: 2194960.00000\n",
      "Step #100, epoch #100, avg. train loss: 4090886.50000\n",
      "Step #100, epoch #100, avg. train loss: 4056882.50000\n",
      "Step #100, epoch #100, avg. train loss: 3963133.75000\n",
      "Step #100, epoch #100, avg. train loss: 2228553.00000\n",
      "Step #100, epoch #100, avg. train loss: 2182226.00000\n",
      "Step #100, epoch #100, avg. train loss: 2022762.75000\n",
      "Step #100, epoch #100, avg. train loss: 2990559.00000\n",
      "Step #100, epoch #100, avg. train loss: 2969747.25000\n",
      "Step #100, epoch #100, avg. train loss: 2853561.00000\n",
      "Step #100, epoch #100, avg. train loss: 3079203.25000\n",
      "Step #100, epoch #100, avg. train loss: 2978529.50000\n",
      "Step #100, epoch #100, avg. train loss: 3083882.25000\n",
      "Step #100, epoch #100, avg. train loss: 2210492.00000\n",
      "Step #100, epoch #100, avg. train loss: 2155368.25000\n",
      "Step #100, epoch #100, avg. train loss: 1992007.25000\n",
      "Step #100, epoch #100, avg. train loss: 3183331.75000\n",
      "Step #100, epoch #100, avg. train loss: 3112128.00000\n",
      "Step #100, epoch #100, avg. train loss: 3004490.50000\n",
      "Step #100, epoch #100, avg. train loss: 3011811.25000\n",
      "Step #100, epoch #100, avg. train loss: 2780474.25000\n",
      "Step #100, epoch #100, avg. train loss: 2639286.00000\n",
      "Step #100, epoch #50, avg. train loss: 2638897.00000\n",
      "best CV score from grid search: 0.150488\n",
      "corresponding parameters: {'steps': 100, 'learning_rate': 1.0, 'hidden_units': [11, 11], 'batch_size': 300}\n",
      "Score: 0.023262\n"
     ]
    }
   ],
   "source": [
    "# DNN-Regressor tuned with GS\n",
    "\n",
    "# param_grid\n",
    "param_grid = {'hidden_units': [[11,11], [12,12], [13,13], [14,14], [15,15]], \n",
    "              'steps': [100],\n",
    "              'learning_rate': [0.3, 0.7, 1.0],\n",
    "              'batch_size': [250, 300, 350, 400, 450]\n",
    "             }\n",
    "\n",
    "# GS with MSE\n",
    "#regressor_tuned = GridSearchCV(skflow.TensorFlowDNNRegressor (hidden_units = [10, 10]), param_grid, scoring = 'mean_squared_error')\n",
    "\n",
    "# GS with R^2\n",
    "regressor_tuned_GS = GridSearchCV(skflow.TensorFlowDNNRegressor (hidden_units = [10, 10]), param_grid, scoring = 'r2')\n",
    "\n",
    "# Fit\n",
    "regressor_tuned_GS.fit(X_train, y_train)\n",
    "\n",
    "# Best score and corresponding parameters.\n",
    "print('best CV score from grid search: {0:f}'.format(regressor_tuned_GS.best_score_))\n",
    "print('corresponding parameters: {}'.format(regressor_tuned_GS.best_params_))\n",
    "\n",
    "# source: https://github.com/tensorflow/skflow/pull/126/files\n",
    "\n",
    "# Predict and score\n",
    "predict = regressor_tuned_GS.predict(X_test)\n",
    "\n",
    "#score_regressor_tuned_GS = mean_squared_error(y_test, predict)\n",
    "score_regressor_tuned_GS = r2_score(y_test, predict)\n",
    "\n",
    "print('Score: {0:f}'.format(score_regressor_tuned_GS))"
   ]
  },
  {
   "cell_type": "code",
   "execution_count": 16,
   "metadata": {
    "collapsed": false
   },
   "outputs": [
    {
     "name": "stdout",
     "output_type": "stream",
     "text": [
      "DNN Regressor Results\n",
      "\n",
      "DNN: 0.127445\n",
      "DNN tuned grid: 0.023262\n"
     ]
    }
   ],
   "source": [
    "print('DNN Regressor Results\\n')\n",
    "print(\"DNN: %f\" % score_regressor)\n",
    "print(\"DNN tuned grid: %f\" % score_regressor_tuned_GS)"
   ]
  },
  {
   "cell_type": "code",
   "execution_count": 17,
   "metadata": {
    "collapsed": false
   },
   "outputs": [
    {
     "name": "stdout",
     "output_type": "stream",
     "text": [
      "Step #100, epoch #50, avg. train loss: 2425221.00000\n",
      "Step #200, epoch #100, avg. train loss: 1691936.62500\n",
      "Step #100, epoch #50, avg. train loss: 2397478.75000\n",
      "Step #200, epoch #100, avg. train loss: 1648577.12500\n",
      "Step #100, epoch #50, avg. train loss: 2267047.75000\n",
      "Step #200, epoch #100, avg. train loss: 1543879.87500\n",
      "Step #100, epoch #50, avg. train loss: 2400214.25000\n",
      "Step #200, epoch #100, avg. train loss: 1553532.37500\n",
      "best CV score from grid search: 0.156112\n",
      "corresponding parameters: {'learning_rate': 0.504183847291067, 'hidden_units': [13, 13], 'batch_size': 292}\n",
      "Score: 0.185236\n"
     ]
    }
   ],
   "source": [
    "# DNN-Regressor tuned with RandomizesSearch\n",
    "\n",
    "# Parameters\n",
    "param_dist = {  'hidden_units': [[11,11], [12,12], [13,13]], \n",
    "                'learning_rate': sp_uniform(0.0,1.0), \n",
    "                'batch_size': sp_randint(250, 350)\n",
    "             }\n",
    "\n",
    "n_iter_search = 1\n",
    "\n",
    "# MSE optimized\n",
    "#regressor_tuned_RS = RandomizedSearchCV(skflow.TensorFlowDNNRegressor (hidden_units = [10, 10]), param_distributions = param_dist, scoring = 'mean_squared_error', n_iter=n_iter_search)\n",
    "\n",
    "# R^2 optimized\n",
    "regressor_tuned_RS = RandomizedSearchCV(skflow.TensorFlowDNNRegressor (hidden_units = [10, 10]), param_distributions = param_dist, scoring = 'r2', n_iter=n_iter_search)\n",
    "\n",
    "# Fit\n",
    "regressor_tuned_RS.fit(X_train, y_train)\n",
    "\n",
    "# Best score and corresponding parameters.\n",
    "print('\\n best CV score from grid search: {0:f}'.format(regressor_tuned_RS.best_score_))\n",
    "print('\\n corresponding parameters: {}'.format(regressor_tuned_RS.best_params_))\n",
    "\n",
    "# source: https://github.com/tensorflow/skflow/pull/126/files\n",
    "\n",
    "# Predict and score\n",
    "predict = regressor_tuned_RS.predict(X_test)\n",
    "\n",
    "#score_regressor_tuned_RS = mean_squared_error(y_test, predict)\n",
    "score_regressor_tuned_RS = r2_score(y_test, predict)\n",
    "\n",
    "print('\\n Score: {0:f}'.format(score_regressor_tuned_RS))"
   ]
  },
  {
   "cell_type": "markdown",
   "metadata": {},
   "source": [
    "Same picture with the DNN Regressor. The tuning helps, but the results are still underwelming. Also the best DNN result is no match for the tuned SVR."
   ]
  },
  {
   "cell_type": "code",
   "execution_count": 18,
   "metadata": {
    "collapsed": false,
    "scrolled": true
   },
   "outputs": [
    {
     "name": "stdout",
     "output_type": "stream",
     "text": [
      "Results\n",
      "\n",
      "SVR: -0.015513\n",
      "SVR tuned grid: 0.802439\n",
      "SVR tuned random: 0.802498\n",
      "\n",
      "\n",
      "DNN: 0.127445\n",
      "DNN tuned grid: 0.023262\n",
      "DNN tuned random: 0.185236\n"
     ]
    }
   ],
   "source": [
    "print('Results\\n')\n",
    "\n",
    "print(\"SVR: %f\" % score_svr)\n",
    "print(\"SVR tuned grid: %f\" % score_svr_tuned_GS)\n",
    "print(\"SVR tuned random: %f\" % score_SVR_tuned_RS)\n",
    "\n",
    "print('\\n')\n",
    "print(\"DNN: %f\" % score_regressor)\n",
    "print(\"DNN tuned grid: %f\" % score_regressor_tuned_GS)\n",
    "print(\"DNN tuned random: %f\" % score_regressor_tuned_RS)"
   ]
  },
  {
   "cell_type": "markdown",
   "metadata": {},
   "source": [
    "SVR works better than the DNN Regressor."
   ]
  },
  {
   "cell_type": "markdown",
   "metadata": {},
   "source": [
    "### Refinement  \n",
    "The count of rented bikes (cnt) is just the sum of the features casual and registered. Two seperate models are trained to predict these features. And add them up afterwards. This should improve the projection."
   ]
  },
  {
   "cell_type": "code",
   "execution_count": 19,
   "metadata": {
    "collapsed": false,
    "scrolled": true
   },
   "outputs": [
    {
     "name": "stdout",
     "output_type": "stream",
     "text": [
      "Feature columns:\n",
      "Index([u'instant', u'dteday', u'season', u'yr', u'mnth', u'holiday',\n",
      "       u'weekday', u'workingday', u'weathersit', u'temp', u'atemp', u'hum',\n",
      "       u'windspeed'],\n",
      "      dtype='object')\n",
      "\n",
      "Target column:\n",
      "casual\n",
      "\n",
      "GridSearchCV(cv=None, error_score='raise',\n",
      "       estimator=SVR(C=1, cache_size=200, coef0=0.0, degree=3, epsilon=0.1, gamma='auto',\n",
      "  kernel='rbf', max_iter=-1, shrinking=True, tol=0.001, verbose=False),\n",
      "       fit_params={}, iid=True, n_jobs=1,\n",
      "       param_grid=[{'kernel': ['linear', 'rbf'], 'C': [1, 3, 10, 30, 100, 300, 1000, 3000]}],\n",
      "       pre_dispatch='2*n_jobs', refit=True, scoring='r2', verbose=0)\n",
      "\n",
      "Best parameter from grid search: {'kernel': 'linear', 'C': 1000}\n"
     ]
    }
   ],
   "source": [
    "#SVR with GridSearch - for casual users\n",
    "\n",
    "# Extracting\n",
    "feature_cols_cas = bike_data.columns[:-3]  # all columns but last are features\n",
    "target_col_cas = bike_data.columns[-3]  # last column is the target\n",
    "print (\"Feature columns:\\n{}\\n\".format(feature_cols_cas))\n",
    "print (\"Target column:\\n{}\\n\".format(target_col_cas))\n",
    "\n",
    "# Pre-processing\n",
    "X_cas = bike_data[feature_cols_cas.drop(['dteday'],['instant'])]  # feature values \n",
    "y_cas = bike_data[target_col_cas]  # corresponding targets\n",
    "\n",
    "# Split Set\n",
    "X_train_cas, X_test_cas, y_train_cas, y_test_cas = train_test_split(X_cas, y_cas)# test size is set to 0.25\n",
    "\n",
    "# Tuning SVR\n",
    "param_grid = [\n",
    "             {'C': [1, 3, 10, 30, 100, 300, 1000, 3000],\n",
    "              'kernel': ['linear', 'rbf']}\n",
    "             ]\n",
    "\n",
    "# MSR optimized\n",
    "#svr_tuned_cas = GridSearchCV(SVR (C=1), param_grid = param_grid, scoring = 'mean_squared_error')\n",
    "\n",
    "# R^2 optimized\n",
    "svr_tuned_cas_GS = GridSearchCV(SVR (C=1), param_grid = param_grid, scoring = 'r2')\n",
    "\n",
    "# Fitting\n",
    "svr_tuned_cas_GS.fit(X_train_cas, y_train_cas)\n",
    "\n",
    "print (svr_tuned_cas_GS)\n",
    "print ('\\n' \"Best parameter from grid search: {}\".format(svr_tuned_cas_GS.best_params_))"
   ]
  },
  {
   "cell_type": "code",
   "execution_count": 20,
   "metadata": {
    "collapsed": false
   },
   "outputs": [
    {
     "name": "stdout",
     "output_type": "stream",
     "text": [
      "best CV score from grid search: 0.627824\n",
      "corresponding parameters: {'kernel': 'linear', 'C': 2087.551229978736}\n"
     ]
    }
   ],
   "source": [
    "#SVR with RandomizesSearch - for casual users\n",
    "# may take a while!\n",
    "\n",
    "# Parameters\n",
    "param_dist = {  'C': sp_uniform (300, 3000), \n",
    "                'kernel': ['linear']\n",
    "             }\n",
    "\n",
    "n_iter_search = 1\n",
    "\n",
    "svr_tuned_cas_RS = RandomizedSearchCV(SVR (C=1), param_distributions = param_dist, scoring = 'r2', n_iter=n_iter_search)\n",
    "\n",
    "# Fit\n",
    "svr_tuned_cas_RS.fit(X_train_cas, y_train_cas)\n",
    "\n",
    "# Best score and corresponding parameters.\n",
    "print('best CV score from grid search: {0:f}'.format(svr_tuned_cas_RS.best_score_))\n",
    "print('corresponding parameters: {}'.format(svr_tuned_cas_RS.best_params_))\n",
    "\n",
    "# Predict and score\n",
    "predict = svr_tuned_cas_RS.predict(X_test)\n",
    "\n",
    "#score_regressor_tuned_RS = mean_squared_error(y_test, predict)\n",
    "score_SVR_tuned_RS = r2_score(y_test, predict)"
   ]
  },
  {
   "cell_type": "code",
   "execution_count": 21,
   "metadata": {
    "collapsed": false
   },
   "outputs": [
    {
     "name": "stdout",
     "output_type": "stream",
     "text": [
      "Feature column(s):\n",
      "Index([u'instant', u'dteday', u'season', u'yr', u'mnth', u'holiday',\n",
      "       u'weekday', u'workingday', u'weathersit', u'temp', u'atemp', u'hum',\n",
      "       u'windspeed'],\n",
      "      dtype='object')\n",
      "\n",
      "Target column:\n",
      "registered\n",
      "\n",
      "GridSearchCV(cv=None, error_score='raise',\n",
      "       estimator=SVR(C=1, cache_size=200, coef0=0.0, degree=3, epsilon=0.1, gamma='auto',\n",
      "  kernel='rbf', max_iter=-1, shrinking=True, tol=0.001, verbose=False),\n",
      "       fit_params={}, iid=True, n_jobs=1,\n",
      "       param_grid=[{'kernel': ['linear', 'rbf'], 'C': [1000, 3000, 10000]}],\n",
      "       pre_dispatch='2*n_jobs', refit=True, scoring='r2', verbose=0)\n",
      "\n",
      "Best parameter from grid search:{'kernel': 'linear', 'C': 3000}\n"
     ]
    }
   ],
   "source": [
    "#SVR for casual with with GridSearch - for registered users\n",
    "\n",
    "# Extracting\n",
    "feature_cols_reg = bike_data.columns[:-3]  # all columns but last are features\n",
    "target_col_reg = bike_data.columns[-2]  # last column is the target\n",
    "print (\"Feature column(s):\\n{}\\n\".format(feature_cols_reg))\n",
    "print (\"Target column:\\n{}\\n\".format(target_col_reg))\n",
    "\n",
    "# Pre-processing\n",
    "X_reg = bike_data[feature_cols_reg.drop(['dteday'],['casual'])]  # feature values \n",
    "y_reg = bike_data[target_col_reg]  # corresponding targets\n",
    "\n",
    "# Split\n",
    "X_train_reg, X_test_reg, y_train_reg, y_test_reg = train_test_split(X_reg, y_reg)# test size is set to 0.25\n",
    "\n",
    "# Tuning SVR\n",
    "param_grid = [\n",
    "             {'C': [1000, 3000, 10000],\n",
    "              'kernel': ['linear', 'rbf']}\n",
    "             ]\n",
    "\n",
    "#svr_tuned_reg = GridSearchCV(SVR (C=1), param_grid = param_grid, scoring = 'mean_squared_error')\n",
    "svr_tuned_reg_GS = GridSearchCV(SVR (C=1), param_grid = param_grid, scoring = 'r2')\n",
    "\n",
    "\n",
    "# Fitting \n",
    "svr_tuned_reg_GS.fit(X_train_reg, y_train_reg)\n",
    "\n",
    "print (svr_tuned_reg_GS)\n",
    "print ('\\n' \"Best parameter from grid search:{}\".format(svr_tuned_reg_GS.best_params_))"
   ]
  },
  {
   "cell_type": "code",
   "execution_count": 22,
   "metadata": {
    "collapsed": false
   },
   "outputs": [
    {
     "name": "stdout",
     "output_type": "stream",
     "text": [
      "best CV score from grid search: 0.627824\n",
      "corresponding parameters: {'kernel': 'linear', 'C': 2087.551229978736}\n"
     ]
    }
   ],
   "source": [
    "#SVR with RandomizesSearch - for registered users\n",
    "# may take a while!\n",
    "\n",
    "# Parameters\n",
    "param_dist = {  'C': sp_uniform (1000, 3000), \n",
    "                'kernel': ['linear']\n",
    "             }\n",
    "\n",
    "n_iter_search = 1\n",
    "\n",
    "svr_tuned_reg_RS = RandomizedSearchCV(SVR (C=1), param_distributions = param_dist, scoring = 'r2', n_iter=n_iter_search)\n",
    "\n",
    "# Fit\n",
    "svr_tuned_reg_RS.fit(X_train_reg, y_train_reg)\n",
    "\n",
    "# Best score and corresponding parameters.\n",
    "print('best CV score from grid search: {0:f}'.format(svr_tuned_cas_RS.best_score_))\n",
    "print('corresponding parameters: {}'.format(svr_tuned_cas_RS.best_params_))\n",
    "\n",
    "# Predict and score\n",
    "predict = svr_tuned_reg_RS.predict(X_test)\n",
    "\n",
    "#score_regressor_tuned_RS = mean_squared_error(y_test, predict)\n",
    "score_SVR_tuned_reg_RS = r2_score(y_test, predict)"
   ]
  },
  {
   "cell_type": "markdown",
   "metadata": {},
   "source": [
    "## Results"
   ]
  },
  {
   "cell_type": "markdown",
   "metadata": {},
   "source": [
    "### Model Evaluation and Validation"
   ]
  },
  {
   "cell_type": "code",
   "execution_count": 31,
   "metadata": {
    "collapsed": false
   },
   "outputs": [
    {
     "name": "stdout",
     "output_type": "stream",
     "text": [
      "Score cas: 0.675565\n",
      "Score reg: 0.842767\n",
      "Score sum: 0.806674\n",
      "(183,)\n"
     ]
    }
   ],
   "source": [
    "# Prediction\n",
    "\n",
    "#print ('Score cas: {0:f}'.format(mean_squared_error(y_test_cas,svr_tuned_cas.predict(X_test_cas))))\n",
    "#print ('Score reg: {0:f}'.format(mean_squared_error(y_test_reg,svr_tuned_reg.predict(X_test_reg))))\n",
    "print ('Score cas: {0:f}'.format(r2_score(y_test_cas,svr_tuned_cas_RS.predict(X_test_cas))))\n",
    "print ('Score reg: {0:f}'.format(r2_score(y_test_reg,svr_tuned_reg_RS.predict(X_test_reg))))\n",
    "\n",
    "predict_sum_test = svr_tuned_cas_RS.predict(X_test) + svr_tuned_reg_RS.predict(X_test)\n",
    "\n",
    "#score = mean_squared_error(y_test, predict_sum)\n",
    "score = r2_score(y_test, predict_sum_test)\n",
    "\n",
    "print('Score sum: {0:f}'.format(score))"
   ]
  },
  {
   "cell_type": "markdown",
   "metadata": {},
   "source": [
    "### Justification"
   ]
  },
  {
   "cell_type": "code",
   "execution_count": 24,
   "metadata": {
    "collapsed": false
   },
   "outputs": [
    {
     "name": "stdout",
     "output_type": "stream",
     "text": [
      "SVR: -0.015513\n",
      "SVR tuned grid: 0.802439\n",
      "SVR tuned random: -3.235611\n",
      "\n",
      "\n",
      "DNN: 0.127445\n",
      "DNN tuned grid: 0.023262\n",
      "DNN tuned random: 0.185236\n",
      "\n",
      "\n",
      "SVR sum: 0.806674\n"
     ]
    }
   ],
   "source": [
    "# Results\n",
    "print(\"SVR: %f\" % score_svr)\n",
    "print(\"SVR tuned grid: %f\" % score_svr_tuned_GS)\n",
    "print(\"SVR tuned random: %f\" % score_SVR_tuned_RS)\n",
    "print('\\n')\n",
    "print(\"DNN: %f\" % score_regressor)\n",
    "print(\"DNN tuned grid: %f\" % score_regressor_tuned_GS)\n",
    "print(\"DNN tuned random: %f\" % score_regressor_tuned_RS)\n",
    "print('\\n')\n",
    "print('SVR sum: {0:f}'.format(score))"
   ]
  },
  {
   "cell_type": "markdown",
   "metadata": {},
   "source": [
    "- The SVR beats the DNN Regressor by far.  \n",
    "- The seperat prediction of casual and registerd customers increases the R^2 sligtly.  \n",
    "- More than 80% determination is a deacent result.  "
   ]
  },
  {
   "cell_type": "markdown",
   "metadata": {},
   "source": [
    "## Conclusion"
   ]
  },
  {
   "cell_type": "markdown",
   "metadata": {},
   "source": [
    "### Free-Form Visualization"
   ]
  },
  {
   "cell_type": "code",
   "execution_count": 40,
   "metadata": {
    "collapsed": false
   },
   "outputs": [],
   "source": [
    "# Visulazation\n",
    "\n",
    "predict_sum_all = svr_tuned_cas_RS.predict(X) + svr_tuned_reg_RS.predict(X)\n",
    "\n",
    "plt.style.use('ggplot')\n",
    "plt.figure(1)\n",
    "      \n",
    "plt.plot(bike_data.cnt,'bo', label='truth')\n",
    "plt.plot(predict_sum_all,'rx', label='prediction')\n",
    "\n",
    "plt.title('Number of bikes rented per day')\n",
    "plt.xlabel('Days')\n",
    "plt.ylabel('Number of bikes')\n",
    "\n",
    "plt.legend(loc='best')\n",
    "\n",
    "plt.show()\n",
    "\n",
    "# source: http://matplotlib.org/examples/showcase/bachelors_degrees_by_gender.html"
   ]
  },
  {
   "cell_type": "markdown",
   "metadata": {},
   "source": [
    "### Reflection"
   ]
  },
  {
   "cell_type": "markdown",
   "metadata": {},
   "source": [
    "- I had high hopes for the DNN Regressor. It was kind of disappointing that it does not even come close. Maybe my tuneing was not right or it neads more data or computaional power.\n",
    "- utelizing grid and randomize search in a way that makes sens was a little tricky. It makes more sens to start with a broad grid search and than use randomized search on the given intervall, instead of vis a versa. It is also coputational more efficient."
   ]
  },
  {
   "cell_type": "markdown",
   "metadata": {},
   "source": [
    "### Improvement"
   ]
  },
  {
   "cell_type": "markdown",
   "metadata": {},
   "source": [
    "- More than 80% determination is a deacent result.  \n",
    "- The could possibly be increased by increasing iterations in training and the number of folds in the cross validation, at the expense of computing time."
   ]
  }
 ],
 "metadata": {
  "kernelspec": {
   "display_name": "Python 2",
   "language": "python",
   "name": "python2"
  },
  "language_info": {
   "codemirror_mode": {
    "name": "ipython",
    "version": 2
   },
   "file_extension": ".py",
   "mimetype": "text/x-python",
   "name": "python",
   "nbconvert_exporter": "python",
   "pygments_lexer": "ipython2",
   "version": "2.7.11"
  }
 },
 "nbformat": 4,
 "nbformat_minor": 0
}
